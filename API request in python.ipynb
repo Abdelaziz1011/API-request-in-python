{
 "cells": [
  {
   "cell_type": "code",
   "execution_count": 1,
   "id": "d1c01600",
   "metadata": {},
   "outputs": [],
   "source": [
    "import requests"
   ]
  },
  {
   "cell_type": "code",
   "execution_count": 2,
   "id": "6f14a376",
   "metadata": {},
   "outputs": [
    {
     "data": {
      "text/plain": [
       "<Response [200]>"
      ]
     },
     "execution_count": 2,
     "metadata": {},
     "output_type": "execute_result"
    }
   ],
   "source": [
    "# Make a GET request to the API endpoint\n",
    "response = requests.get('https://gorest.co.in/public/v2/users')\n",
    "response"
   ]
  },
  {
   "cell_type": "code",
   "execution_count": 3,
   "id": "fe028334",
   "metadata": {},
   "outputs": [],
   "source": [
    "# Check if the response was successful \n",
    "if response.status_code == 200:\n",
    "    # Parse the JSON response\n",
    "    data = response.json()\n",
    "    data"
   ]
  },
  {
   "cell_type": "code",
   "execution_count": 4,
   "id": "3b6e96a5",
   "metadata": {},
   "outputs": [
    {
     "name": "stdout",
     "output_type": "stream",
     "text": [
      "Data has been written to Users_Data.csv\n"
     ]
    }
   ],
   "source": [
    "# Write the extracted data to a CSV file\n",
    "with open('Users_Data.csv', mode='w') as f:\n",
    "    f.write('id,name,email,gender,is_active\\n')      #Header\n",
    "    for user in data:\n",
    "        f.write(f\"{user['id']},{user['name']},{user['email']},{user['gender']},{user['status'] == 'active'}\\n\")\n",
    "\n",
    "print('Data has been written to Users_Data.csv')"
   ]
  },
  {
   "cell_type": "code",
   "execution_count": null,
   "id": "78ee8206",
   "metadata": {},
   "outputs": [],
   "source": []
  }
 ],
 "metadata": {
  "kernelspec": {
   "display_name": "Python 3 (ipykernel)",
   "language": "python",
   "name": "python3"
  },
  "language_info": {
   "codemirror_mode": {
    "name": "ipython",
    "version": 3
   },
   "file_extension": ".py",
   "mimetype": "text/x-python",
   "name": "python",
   "nbconvert_exporter": "python",
   "pygments_lexer": "ipython3",
   "version": "3.11.5"
  }
 },
 "nbformat": 4,
 "nbformat_minor": 5
}
